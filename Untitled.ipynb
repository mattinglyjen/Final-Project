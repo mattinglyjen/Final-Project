{
 "cells": [
  {
   "cell_type": "code",
   "execution_count": 6,
   "id": "04f59add",
   "metadata": {},
   "outputs": [
    {
     "name": "stdout",
     "output_type": "stream",
     "text": [
      "['true']\n"
     ]
    }
   ],
   "source": [
    "# this file takes input from the html file, uses the input to run the serialized model (Pickled model), and then \n",
    "# outputs the target information\n",
    "\n",
    "from flask import Flask, render_template, url_for, request\n",
    "import pandas as pd\n",
    "import pickle\n",
    "import joblib\n",
    "import nltk\n",
    "from joblib import load, dump\n",
    "from sklearn import preprocessing\n",
    "from sklearn import metrics\n",
    "from nltk.corpus import stopwords\n",
    "from nltk.corpus import stopwords\n",
    "from nltk.tokenize import word_tokenize\n",
    "\n",
    "# load dataset into dataframe object \n",
    "#df_true = pd.read_csv(\"https://final-project-data-rjj.s3.us-east-2.amazonaws.com/True.csv\")\n",
    "#df_fake = pd.read_csv(\"https://final-project-data-rjj.s3.us-east-2.amazonaws.com/Fake.csv\")\n",
    "    \n",
    "#df_true['target'] = \"true\"  \n",
    "#df_fake['target'] = \"fake\"\n",
    "#df = pd.concat([df_true, df_fake]).reset_index(drop = True)\n",
    "\n",
    "# initialize new Flask instance with argument __name__ \n",
    "model = pickle.load(open('trained_regression_model.pkl', 'rb'))\n",
    "\n",
    "\n",
    "# within the predict function, we do the following: access the True and Fake datasets, pre-process\n",
    "# the text, make predictions, store the model, access message entered by the user, use our model \n",
    "# to make prediction for its label\n",
    "# the POST method transports form data to the server in the message body\n",
    "\n",
    "par_text = [\" The head of a conservative Republican faction in the U.S. Congress, who voted this month for a huge expansion of the national debt to pay for tax cuts, called himself a fiscal conservative on Sunday and urged budget restraint \"]\n",
    "stop_words = stopwords.words('english')\n",
    "stop_words.extend(['from', 'subject', 're', 'edu', 'use'])\n",
    "input_test2 = par_text\n",
    "\n",
    "#input_test2 = word_tokenize(par_text)\n",
    "input_output = [word for word in input_test2 if not word in stop_words]\n",
    "\n",
    "\n",
    "news_prediction = model.predict(input_output)   \n",
    "print(news_prediction)\n",
    "\n",
    "\n"
   ]
  },
  {
   "cell_type": "code",
   "execution_count": 3,
   "id": "2272f8cb",
   "metadata": {},
   "outputs": [
    {
     "name": "stdout",
     "output_type": "stream",
     "text": [
      "Pipeline(steps=[('vect', CountVectorizer()), ('tfidf', TfidfTransformer()),\n",
      "                ('model', LogisticRegression())])\n"
     ]
    }
   ],
   "source": [
    "print(model)"
   ]
  },
  {
   "cell_type": "code",
   "execution_count": 2,
   "id": "cb5614c0",
   "metadata": {},
   "outputs": [
    {
     "data": {
      "text/plain": [
       "['Why', 'working', 'correctly', 'awesome']"
      ]
     },
     "execution_count": 2,
     "metadata": {},
     "output_type": "execute_result"
    }
   ],
   "source": [
    "input_output"
   ]
  },
  {
   "cell_type": "code",
   "execution_count": null,
   "id": "59b6465a",
   "metadata": {},
   "outputs": [],
   "source": []
  }
 ],
 "metadata": {
  "kernelspec": {
   "display_name": "Python [conda env:PythonAdv] *",
   "language": "python",
   "name": "conda-env-PythonAdv-py"
  },
  "language_info": {
   "codemirror_mode": {
    "name": "ipython",
    "version": 3
   },
   "file_extension": ".py",
   "mimetype": "text/x-python",
   "name": "python",
   "nbconvert_exporter": "python",
   "pygments_lexer": "ipython3",
   "version": "3.6.13"
  }
 },
 "nbformat": 4,
 "nbformat_minor": 5
}
